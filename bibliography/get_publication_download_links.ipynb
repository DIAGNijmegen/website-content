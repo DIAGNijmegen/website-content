{
 "cells": [
  {
   "cell_type": "markdown",
   "id": "e39d36f8",
   "metadata": {},
   "source": [
    "# Exploring the approach to get the download links from our taverne repository for our publications"
   ]
  },
  {
   "cell_type": "markdown",
   "id": "16ed5e4e",
   "metadata": {},
   "source": [
    "Just run everything top to bottom"
   ]
  },
  {
   "cell_type": "markdown",
   "id": "82e5d9fb",
   "metadata": {},
   "source": [
    "---"
   ]
  },
  {
   "cell_type": "markdown",
   "id": "70370bf3",
   "metadata": {},
   "source": [
    "# Libraries"
   ]
  },
  {
   "cell_type": "code",
   "execution_count": 1,
   "id": "c7dc03f8",
   "metadata": {},
   "outputs": [],
   "source": [
    "# !pip install lxml\n",
    "# !pip install beautifulsoup4"
   ]
  },
  {
   "cell_type": "code",
   "execution_count": 1,
   "id": "8a02a41f",
   "metadata": {},
   "outputs": [],
   "source": [
    "import requests\n",
    "# import lxml\n",
    "from bs4 import BeautifulSoup\n",
    "import unicodedata\n",
    "import bibtexparser\n",
    "from bibreader import parse_bibtex_file, get_bib_blocks\n",
    "import latexcodec\n",
    "import codecs\n",
    "from difflib import SequenceMatcher"
   ]
  },
  {
   "cell_type": "markdown",
   "id": "3f2778dd",
   "metadata": {},
   "source": [
    "# DIAG bib"
   ]
  },
  {
   "cell_type": "markdown",
   "id": "5bc77a2b",
   "metadata": {},
   "source": [
    "### Download diag.bib and fullstrings.bib\n",
    "I downloaded them like this so you dont have to do this manually, not sure if this always works"
   ]
  },
  {
   "cell_type": "code",
   "execution_count": 2,
   "id": "e5f4b6f4",
   "metadata": {},
   "outputs": [],
   "source": [
    "download_bibs = False #set to True if you want to download the diag.bib and fullstrings.bib"
   ]
  },
  {
   "cell_type": "markdown",
   "id": "43781975",
   "metadata": {},
   "source": [
    "diag.bib"
   ]
  },
  {
   "cell_type": "code",
   "execution_count": 3,
   "id": "884c3098",
   "metadata": {},
   "outputs": [],
   "source": [
    "diag_bib_raw_url = 'https://raw.githubusercontent.com/DIAGNijmegen/Literature/main/diag.bib'\n",
    "r_diag_bib_raw = requests.get(diag_bib_raw_url).text"
   ]
  },
  {
   "cell_type": "code",
   "execution_count": 4,
   "id": "5ba11a17",
   "metadata": {},
   "outputs": [],
   "source": [
    "if download_bibs:\n",
    "    with open(\"diag.bib\", 'w', encoding=\"utf-8-sig\") as file:\n",
    "        file.write(r_diag_bib_raw)"
   ]
  },
  {
   "cell_type": "markdown",
   "id": "1b2d4d99",
   "metadata": {},
   "source": [
    "fullstrings.bib"
   ]
  },
  {
   "cell_type": "code",
   "execution_count": 5,
   "id": "62ecb235",
   "metadata": {},
   "outputs": [],
   "source": [
    "fullstrings_raw_url = 'https://raw.githubusercontent.com/DIAGNijmegen/Literature/main/fullstrings.bib'\n",
    "r_fullstrings_raw = requests.get(fullstrings_raw_url).text "
   ]
  },
  {
   "cell_type": "code",
   "execution_count": 6,
   "id": "9d32180f",
   "metadata": {},
   "outputs": [],
   "source": [
    "if download_bibs:\n",
    "    with open(\"fullstrings.bib\", 'w', encoding=\"utf-8-sig\") as file:\n",
    "        file.write(r_fullstrings_raw)"
   ]
  },
  {
   "cell_type": "markdown",
   "id": "6cafd0a8",
   "metadata": {},
   "source": [
    "### Load bibfile with website-content's bibreader modelule"
   ]
  },
  {
   "cell_type": "code",
   "execution_count": 7,
   "id": "65251bd8",
   "metadata": {},
   "outputs": [
    {
     "name": "stdout",
     "output_type": "stream",
     "text": [
      "no year found in bibitem. skipping bibitem: {'type': 'string', 'pmidnumber': -1}\n",
      "no year found in bibitem. skipping bibitem: {'type': 'comment', 'pmidnumber': -1}\n"
     ]
    },
    {
     "data": {
      "text/plain": [
       "1614"
      ]
     },
     "execution_count": 7,
     "metadata": {},
     "output_type": "execute_result"
    }
   ],
   "source": [
    "diag_bib_path = 'diag.bib' #r'C:\\Users\\joeyspronck\\Downloads\\diag.bib'\n",
    "fullstrings_path = 'fullstrings.bib' #r'C:\\Users\\joeyspronck\\Downloads\\fullstrings.bib'\n",
    "\n",
    "diag_bib = parse_bibtex_file(diag_bib_path, fullstrings_path)\n",
    "len(diag_bib)"
   ]
  },
  {
   "cell_type": "markdown",
   "id": "af0f4953",
   "metadata": {},
   "source": [
    "---"
   ]
  },
  {
   "cell_type": "markdown",
   "id": "16e93085",
   "metadata": {},
   "source": [
    "---"
   ]
  },
  {
   "cell_type": "markdown",
   "id": "8077566e",
   "metadata": {},
   "source": [
    "# Example publication"
   ]
  },
  {
   "cell_type": "code",
   "execution_count": 8,
   "id": "38797f86",
   "metadata": {},
   "outputs": [
    {
     "data": {
      "text/plain": [
       "'Identification of Risk of Cardiovascular Disease by Automatic Quantification of Coronary Artery Calcifications on Radiotherapy Planning CT Scans in Patients With Breast Cancer'"
      ]
     },
     "execution_count": 8,
     "metadata": {},
     "output_type": "execute_result"
    }
   ],
   "source": [
    "example_title='Identification of Risk of Cardiovascular Disease by Automatic Quantification of Coronary Artery Calcifications on Radiotherapy Planning CT Scans in Patients With Breast Cancer'\n",
    "example_title"
   ]
  },
  {
   "cell_type": "code",
   "execution_count": 9,
   "id": "b70a8496",
   "metadata": {},
   "outputs": [],
   "source": [
    "example_link='https://repository.ubn.ru.nl/handle/2066/235298'"
   ]
  },
  {
   "cell_type": "code",
   "execution_count": 10,
   "id": "9d0b5fb4",
   "metadata": {},
   "outputs": [
    {
     "data": {
      "text/plain": [
       "'https://repository.ubn.ru.nl/discover?query=Identification+of+Risk+of+Cardiovascular+Disease+by+Automatic+Quantification+of+Coronary+Artery+Calcifications+on+Radiotherapy+Planning+CT+Scans+in+Patients+With+Breast+Cancer&scope='"
      ]
     },
     "execution_count": 10,
     "metadata": {},
     "output_type": "execute_result"
    }
   ],
   "source": [
    "example_search_url = 'https://repository.ubn.ru.nl/discover?query=Identification+of+Risk+of+Cardiovascular+Disease+by+Automatic+Quantification+of+Coronary+Artery+Calcifications+on+Radiotherapy+Planning+CT+Scans+in+Patients+With+Breast+Cancer&scope='\n",
    "example_search_url"
   ]
  },
  {
   "cell_type": "markdown",
   "id": "88280b34",
   "metadata": {},
   "source": [
    "# Get example bib entry"
   ]
  },
  {
   "cell_type": "code",
   "execution_count": 11,
   "id": "85c5060c",
   "metadata": {
    "scrolled": true
   },
   "outputs": [
    {
     "data": {
      "text/plain": [
       "['gal21']"
      ]
     },
     "execution_count": 11,
     "metadata": {},
     "output_type": "execute_result"
    }
   ],
   "source": [
    "example_title='Identification of Risk of Cardiovascular Disease by Automatic Quantification of Coronary Artery Calcifications on Radiotherapy Planning CT Scans in Patients With Breast Cancer'\n",
    "hits = []\n",
    "for k, v in diag_bib.items():\n",
    "    if example_title in str(v):\n",
    "        hits.append(k)\n",
    "hits"
   ]
  },
  {
   "cell_type": "markdown",
   "id": "ada96ddd",
   "metadata": {},
   "source": [
    "perfect match in this case"
   ]
  },
  {
   "cell_type": "code",
   "execution_count": 12,
   "id": "d6751e2a",
   "metadata": {},
   "outputs": [],
   "source": [
    "example_bib = diag_bib[hits[0]]"
   ]
  },
  {
   "cell_type": "markdown",
   "id": "68dd0049",
   "metadata": {},
   "source": [
    "## Get title and DOI"
   ]
  },
  {
   "cell_type": "markdown",
   "id": "f0753bb8",
   "metadata": {},
   "source": [
    "### Title"
   ]
  },
  {
   "cell_type": "code",
   "execution_count": 13,
   "id": "45df4743",
   "metadata": {},
   "outputs": [
    {
     "data": {
      "text/plain": [
       "'Identification of Risk of Cardiovascular Disease by Automatic Quantification of Coronary Artery Calcifications on Radiotherapy Planning CT Scans in Patients With Breast Cancer'"
      ]
     },
     "execution_count": 13,
     "metadata": {},
     "output_type": "execute_result"
    }
   ],
   "source": [
    "example_bib_title = example_bib['title']\n",
    "example_bib_title"
   ]
  },
  {
   "cell_type": "markdown",
   "id": "df7b529b",
   "metadata": {},
   "source": [
    "### DOI"
   ]
  },
  {
   "cell_type": "code",
   "execution_count": 14,
   "id": "6a7aa2d5",
   "metadata": {},
   "outputs": [
    {
     "data": {
      "text/plain": [
       "'https://doi.org/10.1001/jamaoncol.2021.1144'"
      ]
     },
     "execution_count": 14,
     "metadata": {},
     "output_type": "execute_result"
    }
   ],
   "source": [
    "example_bib_doi = example_bib['doi']\n",
    "example_bib_doi"
   ]
  },
  {
   "cell_type": "markdown",
   "id": "8480dba2",
   "metadata": {},
   "source": [
    "---"
   ]
  },
  {
   "cell_type": "markdown",
   "id": "1a9eb708",
   "metadata": {},
   "source": [
    "---"
   ]
  },
  {
   "cell_type": "markdown",
   "id": "097fae28",
   "metadata": {},
   "source": [
    "# Search publication in repository"
   ]
  },
  {
   "cell_type": "markdown",
   "id": "c4101e4b",
   "metadata": {},
   "source": [
    "### Recreate search url from tilte"
   ]
  },
  {
   "cell_type": "code",
   "execution_count": 16,
   "id": "ff366a0c",
   "metadata": {},
   "outputs": [
    {
     "data": {
      "text/plain": [
       "'Identification+of+Risk+of+Cardiovascular+Disease+by+Automatic+Quantification+of+Coronary+Artery+Calcifications+on+Radiotherapy+Planning+CT+Scans+in+Patients+With+Breast+Cancer'"
      ]
     },
     "execution_count": 16,
     "metadata": {},
     "output_type": "execute_result"
    }
   ],
   "source": [
    "plus_title = example_bib_title.strip().replace(' ', '+')\n",
    "plus_title"
   ]
  },
  {
   "cell_type": "code",
   "execution_count": 17,
   "id": "dcb2eba5",
   "metadata": {},
   "outputs": [
    {
     "name": "stdout",
     "output_type": "stream",
     "text": [
      "https://repository.ubn.ru.nl/discover?query=Identification+of+Risk+of+Cardiovascular+Disease+by+Automatic+Quantification+of+Coronary+Artery+Calcifications+on+Radiotherapy+Planning+CT+Scans+in+Patients+With+Breast+Cancer&scope=\n"
     ]
    },
    {
     "data": {
      "text/plain": [
       "True"
      ]
     },
     "execution_count": 17,
     "metadata": {},
     "output_type": "execute_result"
    }
   ],
   "source": [
    "search_url=f'https://repository.ubn.ru.nl/discover?query={plus_title}&scope='\n",
    "print(search_url)\n",
    "search_url == example_search_url"
   ]
  },
  {
   "cell_type": "markdown",
   "id": "3178c64f",
   "metadata": {},
   "source": [
    "### Search, request and soup"
   ]
  },
  {
   "cell_type": "code",
   "execution_count": 18,
   "id": "564bfe8f",
   "metadata": {},
   "outputs": [],
   "source": [
    "r_search = requests.get(search_url)\n",
    "bs_search = BeautifulSoup(r_search.text, 'lxml')"
   ]
  },
  {
   "cell_type": "markdown",
   "id": "f86144b4",
   "metadata": {},
   "source": [
    "### Get search results"
   ]
  },
  {
   "cell_type": "code",
   "execution_count": 19,
   "id": "fdafd502",
   "metadata": {},
   "outputs": [],
   "source": [
    "search_results = bs_search.find('div', id='aspect_discovery_SimpleSearch_div_search-results')\n",
    "results = search_results.find_all('div', class_='artifact-description')"
   ]
  },
  {
   "cell_type": "markdown",
   "id": "3ab6888d",
   "metadata": {},
   "source": [
    "## First result"
   ]
  },
  {
   "cell_type": "code",
   "execution_count": 20,
   "id": "bdec7688",
   "metadata": {},
   "outputs": [],
   "source": [
    "first_result = results[0]"
   ]
  },
  {
   "cell_type": "markdown",
   "id": "2217ef64",
   "metadata": {},
   "source": [
    "### Slug"
   ]
  },
  {
   "cell_type": "code",
   "execution_count": 21,
   "id": "84fbfdea",
   "metadata": {},
   "outputs": [
    {
     "data": {
      "text/plain": [
       "'/handle/2066/235298'"
      ]
     },
     "execution_count": 21,
     "metadata": {},
     "output_type": "execute_result"
    }
   ],
   "source": [
    "search_result_slug = first_result.a['href']\n",
    "search_result_slug"
   ]
  },
  {
   "cell_type": "markdown",
   "id": "67719ec2",
   "metadata": {},
   "source": [
    "### Title"
   ]
  },
  {
   "cell_type": "code",
   "execution_count": 22,
   "id": "106ccd2a",
   "metadata": {},
   "outputs": [
    {
     "data": {
      "text/plain": [
       "'Identification of Risk of Cardiovascular Disease by Automatic Quantification of Coronary Artery Calcifications on Radiotherapy Planning CT Scans in Patients With Breast Cancer'"
      ]
     },
     "execution_count": 22,
     "metadata": {},
     "output_type": "execute_result"
    }
   ],
   "source": [
    "search_result_title = first_result.a.h4.text.strip()\n",
    "search_result_title"
   ]
  },
  {
   "cell_type": "markdown",
   "id": "0aa69d15",
   "metadata": {},
   "source": [
    "We could set a threshold here"
   ]
  },
  {
   "cell_type": "code",
   "execution_count": 23,
   "id": "f19c527a",
   "metadata": {},
   "outputs": [
    {
     "data": {
      "text/plain": [
       "1.0"
      ]
     },
     "execution_count": 23,
     "metadata": {},
     "output_type": "execute_result"
    }
   ],
   "source": [
    "a = example_bib_title.strip().lower()\n",
    "b = search_result_title.strip().lower()\n",
    "title_match_ratio = SequenceMatcher(a=a, b=b).ratio()\n",
    "title_match_ratio"
   ]
  },
  {
   "cell_type": "code",
   "execution_count": 24,
   "id": "d6193eaf",
   "metadata": {
    "scrolled": true
   },
   "outputs": [
    {
     "data": {
      "text/plain": [
       "True"
      ]
     },
     "execution_count": 24,
     "metadata": {},
     "output_type": "execute_result"
    }
   ],
   "source": [
    "title_match_ratio > 0.9"
   ]
  },
  {
   "cell_type": "markdown",
   "id": "132c3506",
   "metadata": {},
   "source": [
    "---"
   ]
  },
  {
   "cell_type": "markdown",
   "id": "8c019a38",
   "metadata": {},
   "source": [
    "---"
   ]
  },
  {
   "cell_type": "markdown",
   "id": "c15200c5",
   "metadata": {},
   "source": [
    "# Check out first result link"
   ]
  },
  {
   "cell_type": "markdown",
   "id": "a7076293",
   "metadata": {},
   "source": [
    "### Recreate publication link"
   ]
  },
  {
   "cell_type": "code",
   "execution_count": 25,
   "id": "238b4653",
   "metadata": {},
   "outputs": [],
   "source": [
    "repo_url_base = \"https://repository.ubn.ru.nl\""
   ]
  },
  {
   "cell_type": "code",
   "execution_count": 26,
   "id": "76e1b908",
   "metadata": {},
   "outputs": [
    {
     "data": {
      "text/plain": [
       "'https://repository.ubn.ru.nl/handle/2066/235298'"
      ]
     },
     "execution_count": 26,
     "metadata": {},
     "output_type": "execute_result"
    }
   ],
   "source": [
    "best_match_url = repo_url_base+search_result_slug\n",
    "best_match_url"
   ]
  },
  {
   "cell_type": "markdown",
   "id": "159f70db",
   "metadata": {},
   "source": [
    "Check"
   ]
  },
  {
   "cell_type": "code",
   "execution_count": 27,
   "id": "8139dd6c",
   "metadata": {},
   "outputs": [
    {
     "data": {
      "text/plain": [
       "True"
      ]
     },
     "execution_count": 27,
     "metadata": {},
     "output_type": "execute_result"
    }
   ],
   "source": [
    "best_match_url == example_link"
   ]
  },
  {
   "cell_type": "markdown",
   "id": "d70b8314",
   "metadata": {},
   "source": [
    "### Best match, request and soup"
   ]
  },
  {
   "cell_type": "code",
   "execution_count": 28,
   "id": "21ac7f42",
   "metadata": {},
   "outputs": [],
   "source": [
    "r_best_match = requests.get(best_match_url)\n",
    "bs_best_match = BeautifulSoup(r_best_match.text, 'lxml')"
   ]
  },
  {
   "cell_type": "markdown",
   "id": "7ac69903",
   "metadata": {},
   "source": [
    "### DOI"
   ]
  },
  {
   "cell_type": "code",
   "execution_count": 29,
   "id": "edf0ab27",
   "metadata": {},
   "outputs": [
    {
     "data": {
      "text/plain": [
       "'https://doi.org/10.1001/jamaoncol.2021.1144'"
      ]
     },
     "execution_count": 29,
     "metadata": {},
     "output_type": "execute_result"
    }
   ],
   "source": [
    "best_match_doi_div = bs_best_match.find('div', class_='simple-item-view-doi')\n",
    "best_match_doi = best_match_doi_div.a['href']\n",
    "best_match_doi"
   ]
  },
  {
   "cell_type": "markdown",
   "id": "5e268d97",
   "metadata": {},
   "source": [
    "Check"
   ]
  },
  {
   "cell_type": "code",
   "execution_count": 32,
   "id": "ca827d80",
   "metadata": {},
   "outputs": [
    {
     "data": {
      "text/plain": [
       "True"
      ]
     },
     "execution_count": 32,
     "metadata": {},
     "output_type": "execute_result"
    }
   ],
   "source": [
    "example_bib_doi == best_match_doi"
   ]
  },
  {
   "cell_type": "markdown",
   "id": "83174dc1",
   "metadata": {},
   "source": [
    "---"
   ]
  },
  {
   "cell_type": "markdown",
   "id": "f8c64fae",
   "metadata": {},
   "source": [
    "---"
   ]
  },
  {
   "cell_type": "markdown",
   "id": "26422865",
   "metadata": {},
   "source": [
    "# Combine everything"
   ]
  },
  {
   "cell_type": "code",
   "execution_count": 15,
   "id": "84612938",
   "metadata": {},
   "outputs": [],
   "source": [
    "def get_publication_page_url(title, doi):\n",
    "    # Search\n",
    "    plus_title = title.strip().replace(' ', '+')\n",
    "    search_url=f'https://repository.ubn.ru.nl/discover?query={plus_title}&scope='\n",
    "    r_search = requests.get(search_url)\n",
    "    bs_search = BeautifulSoup(r_search.text, 'lxml')\n",
    "    search_results = bs_search.find('div', id='aspect_discovery_SimpleSearch_div_search-results')\n",
    "    results = search_results.find_all('div', class_='artifact-description')\n",
    "    \n",
    "    # First result\n",
    "    first_result = results[0]\n",
    "    search_result_slug = first_result.a['href']\n",
    "    search_result_title = first_result.a.h4.text.strip()\n",
    "    a = example_bib_title.strip().lower()\n",
    "    b = search_result_title.strip().lower()\n",
    "    # TITLE RATIO\n",
    "    title_match_ratio = SequenceMatcher(a=a, b=b).ratio()\n",
    "    \n",
    "    # First result page\n",
    "    repo_url_base = \"https://repository.ubn.ru.nl\"\n",
    "    best_match_url = repo_url_base+search_result_slug\n",
    "    r_best_match = requests.get(best_match_url)\n",
    "    bs_best_match = BeautifulSoup(r_best_match.text, 'lxml')\n",
    "    best_match_doi_div = bs_best_match.find('div', class_='simple-item-view-doi')\n",
    "    # DOI\n",
    "    best_match_doi = best_match_doi_div.a['href']\n",
    "\n",
    "    if title_match_ratio > 0.9 and doi == best_match_doi:\n",
    "        return best_match_url\n",
    "    else:\n",
    "        return None"
   ]
  },
  {
   "cell_type": "code",
   "execution_count": 16,
   "id": "5be04415",
   "metadata": {},
   "outputs": [
    {
     "name": "stdout",
     "output_type": "stream",
     "text": [
      "Identification of Risk of Cardiovascular Disease by Automatic Quantification of Coronary Artery Calcifications on Radiotherapy Planning CT Scans in Patients With Breast Cancer\n",
      "https://doi.org/10.1001/jamaoncol.2021.1144\n"
     ]
    }
   ],
   "source": [
    "print(example_bib_title)\n",
    "print(example_bib_doi)"
   ]
  },
  {
   "cell_type": "code",
   "execution_count": 17,
   "id": "85b5dfb0",
   "metadata": {},
   "outputs": [
    {
     "data": {
      "text/plain": [
       "'https://repository.ubn.ru.nl/handle/2066/235298'"
      ]
     },
     "execution_count": 17,
     "metadata": {},
     "output_type": "execute_result"
    }
   ],
   "source": [
    "get_publication_page_url(example_bib_title, example_bib_doi)"
   ]
  },
  {
   "cell_type": "markdown",
   "id": "3aa58252",
   "metadata": {},
   "source": [
    "---"
   ]
  },
  {
   "cell_type": "markdown",
   "id": "4ecb8377",
   "metadata": {},
   "source": [
    "---"
   ]
  },
  {
   "cell_type": "markdown",
   "id": "aad07ee9",
   "metadata": {},
   "source": [
    "---"
   ]
  },
  {
   "cell_type": "markdown",
   "id": "a124a5fe",
   "metadata": {},
   "source": [
    "---"
   ]
  },
  {
   "cell_type": "markdown",
   "id": "a6d31e42",
   "metadata": {},
   "source": [
    "---"
   ]
  },
  {
   "cell_type": "markdown",
   "id": "df0ec9b7",
   "metadata": {},
   "source": [
    "---"
   ]
  },
  {
   "cell_type": "markdown",
   "id": "822ec150",
   "metadata": {},
   "source": [
    "---"
   ]
  },
  {
   "cell_type": "markdown",
   "id": "1cc42674",
   "metadata": {},
   "source": [
    "---"
   ]
  },
  {
   "cell_type": "markdown",
   "id": "727f96e7",
   "metadata": {},
   "source": [
    "# Other stuff"
   ]
  },
  {
   "cell_type": "markdown",
   "id": "82837078",
   "metadata": {},
   "source": [
    "### Authors"
   ]
  },
  {
   "cell_type": "code",
   "execution_count": 133,
   "id": "ea05847f",
   "metadata": {
    "scrolled": true
   },
   "outputs": [
    {
     "data": {
      "text/plain": [
       "<div class=\"simple-item-view-authors item-page-field-wrapper table\">\n",
       "<h5>Author(s)</h5>\n",
       "<div class=\"ds-dc_contributor_author-authority\">\n",
       "<a href=\"/browse?type=author&amp;authority=633af101fe822e2bef176974b4c9394fe68539b6\">Gal, R.</a>\n",
       "</div>\n",
       "<div class=\"ds-dc_contributor_author-authority\">\n",
       "<a href=\"/browse?type=author&amp;authority=00622b33ee1f92cc394a320e5cbb8eee0c9c9410\">Velzen, S.G.M. van</a>\n",
       "</div>\n",
       "<div class=\"ds-dc_contributor_author-authority\">\n",
       "<a href=\"/browse?type=author&amp;authority=9a539b16085b4ce51bba03a15a3340068dca2a90\">Hooning, M.J.</a>\n",
       "</div>\n",
       "<div class=\"ds-dc_contributor_author-authority\">\n",
       "<a href=\"/browse?type=author&amp;authority=068bcf5e4f507c3a49c4955588de6ccd5e14f7fc\">Emaus, M.J.</a>\n",
       "</div>\n",
       "<div class=\"ds-dc_contributor_author-authority\">\n",
       "<a href=\"/browse?type=author&amp;authority=a8ee98f8aa2324c0d030444bf12448b1\">Leij, F. van der</a>\n",
       "</div>\n",
       "<div class=\"ds-dc_contributor_author-authority\">\n",
       "<a href=\"/browse?type=author&amp;authority=dea26ba664477987f484700fd9b50c90d524297b\">Gregorowitsch, M.L.</a>\n",
       "</div>\n",
       "<div class=\"ds-dc_contributor_author-authority\">\n",
       "<a href=\"/browse?type=author&amp;authority=e193f169fb5ce39375af4d2bacdd3f7d\">Blezer, E.L.A.</a>\n",
       "</div>\n",
       "<div class=\"ds-dc_contributor_author-authority\">\n",
       "<a href=\"/browse?type=author&amp;authority=5c303348008dab9f0a3ebfa81801057f5cc2cc45\">Gernaat, S.A.M.</a>\n",
       "</div>\n",
       "<div class=\"ds-dc_contributor_author-authority\">\n",
       "<a href=\"/browse?type=author&amp;authority=5cf0c50341f00aca9f5242101ad0862f60f8269c\">Lessmann, N.</a>\n",
       "</div>\n",
       "<div class=\"ds-dc_contributor_author-authority\">\n",
       "<a href=\"/browse?type=author&amp;authority=55822a13b3796552a3fda3f78a075531\">Sattler, M.G.</a>\n",
       "</div>\n",
       "<div class=\"ds-dc_contributor_author-authority\">\n",
       "<a href=\"/browse?type=author&amp;authority=057175574ca7b01657d8be5569626220\">Leiner, T.</a>\n",
       "</div>\n",
       "<div class=\"ds-dc_contributor_author-authority\">\n",
       "<a href=\"/browse?type=author&amp;authority=90d2c14ee49c742d7ed6ad768bfa87fd2d263c6f\">Jong, Pa. de</a>\n",
       "</div>\n",
       "<div class=\"ds-dc_contributor_author-authority\">\n",
       "<a href=\"/browse?type=author&amp;authority=b2cc7b62642ab1b629165e5a446d0b52eab4eba0\">Teske, A.J.</a>\n",
       "</div>\n",
       "<div class=\"ds-dc_contributor_author-authority\">\n",
       "<a href=\"/browse?type=author&amp;authority=2a4625953aa37e9d2f68b54936c015964ead330a\">Verloop, J.</a>\n",
       "</div>\n",
       "<div class=\"ds-dc_contributor_author-authority\">\n",
       "<a href=\"/browse?type=author&amp;authority=0363f946bdc3ea73c445456cb551272bf2e43f52\">Penninkhof, J.J.</a>\n",
       "</div>\n",
       "<div class=\"ds-dc_contributor_author-authority\">\n",
       "<a href=\"/browse?type=author&amp;authority=9b69119c659a474cb849039d3c29dffae0bac5f0\">Vaartjes, I.</a>\n",
       "</div>\n",
       "<div class=\"ds-dc_contributor_author-authority\">\n",
       "<a href=\"/browse?type=author&amp;authority=ee1e6be8c984144137a5ad6c9033adc5\">Meijer, H.J.M.</a>\n",
       "</div>\n",
       "<div class=\"ds-dc_contributor_author-authority\">\n",
       "<a href=\"/browse?type=author&amp;authority=9d809481d1b1331cc4c728e8d88453c6\">Tol-Geerdink, J.J. van</a>\n",
       "</div>\n",
       "<div class=\"ds-dc_contributor_author-authority\">\n",
       "<a href=\"/browse?type=author&amp;authority=1ba64221310f9accc2b702fca2386beb25de0cca\">Pignol, J.P.</a>\n",
       "</div>\n",
       "<div class=\"ds-dc_contributor_author-authority\">\n",
       "<a href=\"/browse?type=author&amp;authority=1788a35297add79e287171526748db3f\">Bongard, D. van den</a>\n",
       "</div>\n",
       "<div class=\"ds-dc_contributor_author-authority\">\n",
       "<a href=\"/browse?type=author&amp;authority=4cd64ad8decc7cd6bceb431246744fc19c2a579c\">Isgum, I.</a>\n",
       "</div>\n",
       "<div class=\"ds-dc_contributor_author-authority\">\n",
       "<a href=\"/browse?type=author&amp;authority=53af2985aa7f87b8bb200a8d46a6c62e\">Verkooijen, H.M.</a>\n",
       "</div>\n",
       "</div>"
      ]
     },
     "execution_count": 133,
     "metadata": {},
     "output_type": "execute_result"
    }
   ],
   "source": [
    "authors = bs_link.find('div', class_='simple-item-view-authors')\n",
    "authors"
   ]
  },
  {
   "cell_type": "code",
   "execution_count": 143,
   "id": "42d97bb8",
   "metadata": {},
   "outputs": [
    {
     "data": {
      "text/plain": [
       "['Gal, R.',\n",
       " 'Velzen, S.G.M. van',\n",
       " 'Hooning, M.J.',\n",
       " 'Emaus, M.J.',\n",
       " 'Leij, F. van der',\n",
       " 'Gregorowitsch, M.L.',\n",
       " 'Blezer, E.L.A.',\n",
       " 'Gernaat, S.A.M.',\n",
       " 'Lessmann, N.',\n",
       " 'Sattler, M.G.',\n",
       " 'Leiner, T.',\n",
       " 'Jong, Pa. de',\n",
       " 'Teske, A.J.',\n",
       " 'Verloop, J.',\n",
       " 'Penninkhof, J.J.',\n",
       " 'Vaartjes, I.',\n",
       " 'Meijer, H.J.M.',\n",
       " 'Tol-Geerdink, J.J. van',\n",
       " 'Pignol, J.P.',\n",
       " 'Bongard, D. van den',\n",
       " 'Isgum, I.',\n",
       " 'Verkooijen, H.M.']"
      ]
     },
     "execution_count": 143,
     "metadata": {},
     "output_type": "execute_result"
    }
   ],
   "source": [
    "authors_list = [author.text.strip() for author in bs_link.find_all('div', class_='ds-dc_contributor_author-authority')]\n",
    "authors_list"
   ]
  },
  {
   "cell_type": "code",
   "execution_count": 144,
   "id": "94dcea56",
   "metadata": {},
   "outputs": [
    {
     "data": {
      "text/plain": [
       "['Gal',\n",
       " 'Velzen',\n",
       " 'Hooning',\n",
       " 'Emaus',\n",
       " 'Leij',\n",
       " 'Gregorowitsch',\n",
       " 'Blezer',\n",
       " 'Gernaat',\n",
       " 'Lessmann',\n",
       " 'Sattler',\n",
       " 'Leiner',\n",
       " 'Jong',\n",
       " 'Teske',\n",
       " 'Verloop',\n",
       " 'Penninkhof',\n",
       " 'Vaartjes',\n",
       " 'Meijer',\n",
       " 'Tol-Geerdink',\n",
       " 'Pignol',\n",
       " 'Bongard',\n",
       " 'Isgum',\n",
       " 'Verkooijen']"
      ]
     },
     "execution_count": 144,
     "metadata": {},
     "output_type": "execute_result"
    }
   ],
   "source": [
    "surnames_list = [author.split(',')[0] for author in authors_list]\n",
    "surnames_list"
   ]
  },
  {
   "cell_type": "code",
   "execution_count": null,
   "id": "7d09edc1",
   "metadata": {},
   "outputs": [],
   "source": []
  }
 ],
 "metadata": {
  "kernelspec": {
   "display_name": "Python 3 (ipykernel)",
   "language": "python",
   "name": "python3"
  },
  "language_info": {
   "codemirror_mode": {
    "name": "ipython",
    "version": 3
   },
   "file_extension": ".py",
   "mimetype": "text/x-python",
   "name": "python",
   "nbconvert_exporter": "python",
   "pygments_lexer": "ipython3",
   "version": "3.9.7"
  }
 },
 "nbformat": 4,
 "nbformat_minor": 5
}
